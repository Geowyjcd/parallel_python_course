{
 "cells": [
  {
   "cell_type": "code",
   "execution_count": null,
   "metadata": {},
   "outputs": [
    {
     "name": "stdout",
     "output_type": "stream",
     "text": [
      "['bomex_0000013020_zarr', 'bomex_0000013080_zarr', 'bomex_0000013140_zarr', 'bomex_0000013200_zarr', 'bomex_0000013260_zarr']\n",
      "bomex_0000013020_zarr\n",
      "Group(/, 13)\n",
      "  arrays: 13; PP, QN, QV, TABS, TR01, U, V, W, p, time, x, y, z\n",
      "  store: DirectoryStore\n",
      "0 PP\n"
     ]
    }
   ],
   "source": [
    "from dask.distributed import Client\n",
    "from multiprocessing.pool import ThreadPool\n",
    "import dask\n",
    "import dask.array as da\n",
    "pool = ThreadPool(4)\n",
    "dask.set_options(pool=pool)\n",
    "client=Client()\n",
    "import zarr, glob\n",
    "zarr_files=sorted(glob.glob(\"bomex*zarr\"))\n",
    "print(zarr_files)\n",
    "\n",
    "\n",
    "vars=['PP', 'QN', 'QV', 'TABS', 'TR01', 'U','V', 'W']\n",
    "disk_out=zarr.open_array('big_out.zarr',mode='w',shape=[8,5,128,256,256],\n",
    "                    chunks=[128,256,256],dtype='float32',fill_value=None)\n",
    "for timestep,zfile in enumerate(zarr_files[:2]):\n",
    "    print(zfile)\n",
    "    root = zarr.open_group(zfile, mode='r')\n",
    "    print(root)\n",
    "    for index,the_var in enumerate(vars):\n",
    "        print(timestep,the_var)\n",
    "        disk_out[index,timestep,:,:,:]=root[the_var][0,:,:,:]"
   ]
  },
  {
   "cell_type": "code",
   "execution_count": null,
   "metadata": {
    "collapsed": true
   },
   "outputs": [],
   "source": [
    "the_var"
   ]
  },
  {
   "cell_type": "code",
   "execution_count": null,
   "metadata": {
    "collapsed": true
   },
   "outputs": [],
   "source": [
    "root"
   ]
  },
  {
   "cell_type": "code",
   "execution_count": null,
   "metadata": {
    "collapsed": true
   },
   "outputs": [],
   "source": []
  }
 ],
 "metadata": {
  "kernelspec": {
   "display_name": "Python 3",
   "language": "python",
   "name": "python3"
  },
  "language_info": {
   "codemirror_mode": {
    "name": "ipython",
    "version": 3
   },
   "file_extension": ".py",
   "mimetype": "text/x-python",
   "name": "python",
   "nbconvert_exporter": "python",
   "pygments_lexer": "ipython3",
   "version": "3.6.1"
  }
 },
 "nbformat": 4,
 "nbformat_minor": 2
}
