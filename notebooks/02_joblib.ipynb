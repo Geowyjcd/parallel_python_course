{
 "cells": [
  {
   "cell_type": "code",
   "execution_count": 2,
   "metadata": {
    "collapsed": true
   },
   "outputs": [],
   "source": [
    "from IPython.display import Image\n",
    "import contexttimer\n",
    "import time\n",
    "import math\n",
    "from numba import jit\n",
    "import multiprocessing\n",
    "import threading\n",
    "from joblib import Parallel\n",
    "import logging"
   ]
  },
  {
   "cell_type": "markdown",
   "metadata": {},
   "source": [
    "## Creating a thread pool with joblib\n",
    "\n",
    "[joblib](https://pythonhosted.org/joblib/index.html) Provides the best way to run naively parallel jobs on multiple threads or processes in python.\n",
    "\n",
    "* It integrates seamlessly with [dask](http://distributed.readthedocs.io/en/latest/joblib.html)\n",
    "  and [scikit-learn](http://scikit-learn.org/stable/modules/model_persistence.html)\n",
    "  \n",
    "* It is undergoing rapid development: e.g. [loky](https://github.com/tomMoral/loky)\n",
    "\n",
    "* To use it, create a Parallel object that runs a list of functions, where each function is part of a tuple that specifies the arguments and keywords (if any)\n"
   ]
  },
  {
   "cell_type": "markdown",
   "metadata": {},
   "source": [
    "### Our functions from the numba notebook "
   ]
  },
  {
   "cell_type": "code",
   "execution_count": 3,
   "metadata": {},
   "outputs": [],
   "source": [
    "@jit('float64(int64)', nopython=True, nogil=True)  #release the GIL!\n",
    "def wait_loop_nogil(n):\n",
    "    \"\"\"\n",
    "    Function under test.\n",
    "    \"\"\"\n",
    "    for m in range(n):\n",
    "        for l in range(m):\n",
    "            for j in range(l):\n",
    "                for i in range(j):\n",
    "                    i=i+4\n",
    "                    out=math.sqrt(i)\n",
    "                    out=out**2.\n",
    "    return out"
   ]
  },
  {
   "cell_type": "code",
   "execution_count": 13,
   "metadata": {
    "collapsed": true
   },
   "outputs": [],
   "source": [
    "@jit('float64(int64)', nopython=True, nogil=False) #hold the GIL\n",
    "def wait_loop_withgil(n):\n",
    "    \"\"\"\n",
    "    Function under test.\n",
    "    \"\"\"\n",
    "    for m in range(n):\n",
    "        for l in range(m):\n",
    "            for j in range(l):\n",
    "                for i in range(j):\n",
    "                    i=i+4\n",
    "                    out=math.sqrt(i)\n",
    "                    out=out**2.\n",
    "    return out"
   ]
  },
  {
   "cell_type": "markdown",
   "metadata": {},
   "source": [
    "### Setup logging so we can know what process and thread we are running"
   ]
  },
  {
   "cell_type": "code",
   "execution_count": 6,
   "metadata": {
    "collapsed": true
   },
   "outputs": [],
   "source": [
    "logging.basicConfig(level=logging.DEBUG,\n",
    "                    format='%(message)s %(threadName)s %(processName)s',\n",
    "                    )\n",
    "\n",
    "def find_ids():\n",
    "    logging.debug('debug logging: ')"
   ]
  },
  {
   "cell_type": "markdown",
   "metadata": {},
   "source": [
    "### Create two functions, one to print thread and process ids, and one to run the wait_for loop\n",
    "\n",
    "* Important point -- the logging module is **threadsafe**\n",
    "\n",
    "* Submit 6 jobs queued on 3 processors"
   ]
  },
  {
   "cell_type": "code",
   "execution_count": 11,
   "metadata": {},
   "outputs": [
    {
     "name": "stdout",
     "output_type": "stream",
     "text": [
      "[(CPUDispatcher(<function wait_loop_nogil at 0x10f73ae18>), [1250], {}), (CPUDispatcher(<function wait_loop_nogil at 0x10f73ae18>), [1250], {}), (CPUDispatcher(<function wait_loop_nogil at 0x10f73ae18>), [1250], {}), (CPUDispatcher(<function wait_loop_nogil at 0x10f73ae18>), [1250], {}), (CPUDispatcher(<function wait_loop_nogil at 0x10f73ae18>), [1250], {}), (CPUDispatcher(<function wait_loop_nogil at 0x10f73ae18>), [1250], {})]\n"
     ]
    }
   ],
   "source": [
    "njobs=6\n",
    "nprocs=3\n",
    "thread_id_jobs =[(find_ids,[],{}) for i in range(nprocs)]\n",
    "nloops=1250\n",
    "calc_jobs=[(wait_loop_nogil,[nloops],{}) for i in range(njobs)]\n",
    "print(calc_jobs)"
   ]
  },
  {
   "cell_type": "code",
   "execution_count": 15,
   "metadata": {},
   "outputs": [
    {
     "name": "stderr",
     "output_type": "stream",
     "text": [
      "debug logging:  Thread-22 MainProcess\n",
      "debug logging:  Thread-24 MainProcess\n",
      "debug logging:  Thread-23 MainProcess\n"
     ]
    },
    {
     "name": "stdout",
     "output_type": "stream",
     "text": [
      "[1250.0, 1250.0, 1250.0, 1250.0, 1250.0, 1250.0]\n",
      "wall time 5.025918995961547 and cpu time 4.897193999999999\n"
     ]
    }
   ],
   "source": [
    "with contexttimer.Timer(time.perf_counter) as wall:\n",
    "    with contexttimer.Timer(time.process_time) as cpu:\n",
    "        with Parallel(n_jobs=nprocs,backend='threading') as parallel:\n",
    "            parallel(thread_id_jobs)\n",
    "            results=parallel(calc_jobs)\n",
    "        print(results)\n",
    "print(f'wall time {wall.elapsed} and cpu time {cpu.elapsed}')"
   ]
  },
  {
   "cell_type": "markdown",
   "metadata": {},
   "source": [
    "* Each job was run on a different thread but in the same process\n",
    "\n",
    "* Note that the cpu time is larger than the wall time, confirming that we've release the GIL.\n"
   ]
  },
  {
   "cell_type": "markdown",
   "metadata": {},
   "source": [
    "### Now repeat this holding the GIL"
   ]
  },
  {
   "cell_type": "code",
   "execution_count": 14,
   "metadata": {},
   "outputs": [
    {
     "name": "stderr",
     "output_type": "stream",
     "text": [
      "debug logging:  Thread-16 MainProcess\n",
      "debug logging:  Thread-17 MainProcess\n",
      "debug logging:  Thread-18 MainProcess\n"
     ]
    },
    {
     "name": "stdout",
     "output_type": "stream",
     "text": [
      "[1250.0, 1250.0, 1250.0, 1250.0, 1250.0, 1250.0]\n",
      "wall time 4.995599332032725 and cpu time 4.846667\n"
     ]
    }
   ],
   "source": [
    "calc_jobs=[(wait_loop_withgil,[nloops],{}) for i in range(njobs)]\n",
    "with contexttimer.Timer(time.perf_counter) as wall:\n",
    "    with contexttimer.Timer(time.process_time) as cpu:\n",
    "        with Parallel(n_jobs=nprocs,backend='threading') as parallel:\n",
    "            parallel(thread_id_jobs)\n",
    "            results=parallel(calc_jobs)\n",
    "        print(results)\n",
    "print(f'wall time {wall.elapsed} and cpu time {cpu.elapsed}')"
   ]
  },
  {
   "cell_type": "markdown",
   "metadata": {},
   "source": [
    "** Note that the speed is the same as if we ran on a single CPU **"
   ]
  },
  {
   "cell_type": "markdown",
   "metadata": {},
   "source": [
    "### Now repeat with processes instead of threads"
   ]
  },
  {
   "cell_type": "code",
   "execution_count": 16,
   "metadata": {},
   "outputs": [
    {
     "name": "stderr",
     "output_type": "stream",
     "text": [
      "debug logging:  MainThread ForkPoolWorker-1\n",
      "debug logging:  MainThread ForkPoolWorker-2\n",
      "debug logging:  MainThread ForkPoolWorker-3\n"
     ]
    },
    {
     "name": "stdout",
     "output_type": "stream",
     "text": [
      "[1250.0, 1250.0, 1250.0, 1250.0, 1250.0, 1250.0]\n",
      "wall time 4.901620892109349 and cpu time 0.1350820000000006\n"
     ]
    }
   ],
   "source": [
    "calc_jobs=[(wait_loop_withgil,[nloops],{}) for i in range(njobs)]\n",
    "with contexttimer.Timer(time.perf_counter) as wall:\n",
    "    with contexttimer.Timer(time.process_time) as cpu:\n",
    "        with Parallel(n_jobs=nprocs,backend='multiprocessing') as parallel:\n",
    "            parallel(thread_id_jobs)\n",
    "            results=parallel(calc_jobs)\n",
    "        print(results)\n",
    "print(f'wall time {wall.elapsed} and cpu time {cpu.elapsed}')"
   ]
  },
  {
   "cell_type": "markdown",
   "metadata": {},
   "source": [
    "** how do you explain the tiny cpu time? **"
   ]
  },
  {
   "cell_type": "markdown",
   "metadata": {},
   "source": [
    "## Summary\n",
    "\n",
    "1.  For simple functions without Python code, Numba can release the GIL and you can get the benefit of multiple threads\n",
    "\n",
    "1. The joblib library can be used to queue dozens of jobs onto a specified number of processes or threads\n",
    "\n",
    "1. A process pool can execute pure python routines, but all data has to be copied to and from each process."
   ]
  }
 ],
 "metadata": {
  "kernelspec": {
   "display_name": "Python 3",
   "language": "python",
   "name": "python3"
  },
  "language_info": {
   "codemirror_mode": {
    "name": "ipython",
    "version": 3
   },
   "file_extension": ".py",
   "mimetype": "text/x-python",
   "name": "python",
   "nbconvert_exporter": "python",
   "pygments_lexer": "ipython3",
   "version": "3.6.1"
  }
 },
 "nbformat": 4,
 "nbformat_minor": 2
}
