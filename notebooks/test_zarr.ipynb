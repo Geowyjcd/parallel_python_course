{
 "cells": [
  {
   "cell_type": "markdown",
   "metadata": {},
   "source": [
    "This notebook has some profiling of Dask used to make a selection along both first and second axes of a large-ish multidimensional array. The use case is making selections of genotype data, e.g., as required for making a web-browser for genotype data as in www.malariagen.net/apps/ag1000g."
   ]
  },
  {
   "cell_type": "code",
   "execution_count": null,
   "metadata": {
    "collapsed": true
   },
   "outputs": [],
   "source": []
  },
  {
   "cell_type": "code",
   "execution_count": 2,
   "metadata": {},
   "outputs": [
    {
     "name": "stdout",
     "output_type": "stream",
     "text": [
      "zarr 2.1.4\n",
      "dask 0.15.0\n"
     ]
    }
   ],
   "source": [
    "import zarr; print('zarr', zarr.__version__)\n",
    "import dask; print('dask', dask.__version__)\n",
    "import dask.array as da\n",
    "import numpy as np"
   ]
  },
  {
   "cell_type": "markdown",
   "metadata": {},
   "source": [
    "## Synthetic data"
   ]
  },
  {
   "cell_type": "code",
   "execution_count": 15,
   "metadata": {},
   "outputs": [
    {
     "data": {
      "text/plain": [
       "Array((200000, 200, 2), float32, chunks=(10000, 100, 2), order=C)\n",
       "  nbytes: 305.2M; nbytes_stored: 348; ratio: 919540.2; initialized: 0/40\n",
       "  compressor: Blosc(cname='zstd', clevel=1, shuffle=2)\n",
       "  store: dict"
      ]
     },
     "execution_count": 15,
     "metadata": {},
     "output_type": "execute_result"
    }
   ],
   "source": [
    "# create a synthetic dataset for profiling\n",
    "a = zarr.array(np.random.randint(-1, 4, size=(200000, 200, 2), dtype='i1'),\n",
    "               chunks=(10000, 100, 2), compressor=zarr.Blosc(cname='zstd', clevel=1, shuffle=2))"
   ]
  },
  {
   "cell_type": "code",
   "execution_count": 25,
   "metadata": {
    "collapsed": true
   },
   "outputs": [],
   "source": [
    "out_name='test'\n",
    "store = zarr.DirectoryStore(out_name)\n",
    "the_group=zarr.hierarchy.group(store=store,overwrite=True,\n",
    "                                    synchronizer=zarr.ThreadSynchronizer())\n",
    "b = the_group.empty('dna',shape=[200000,200,2], dtype='float32',\n",
    "               chunks=a.chunks, compressor=zarr.Blosc(cname='zstd', clevel=1, shuffle=2))\n",
    "b[...]=a[...]"
   ]
  },
  {
   "cell_type": "code",
   "execution_count": 26,
   "metadata": {},
   "outputs": [
    {
     "name": "stdout",
     "output_type": "stream",
     "text": [
      "CPU times: user 208 ms, sys: 0 ns, total: 208 ms\n",
      "Wall time: 206 ms\n"
     ]
    },
    {
     "data": {
      "text/plain": [
       "dask.array<array-5..., shape=(20000000, 200, 2), dtype=int8, chunksize=(10000, 200, 2)>"
      ]
     },
     "execution_count": 26,
     "metadata": {},
     "output_type": "execute_result"
    }
   ],
   "source": [
    "%time d = da.from_array(a, chunks=(a.chunks[0], None, None))\n",
    "d"
   ]
  },
  {
   "cell_type": "code",
   "execution_count": 23,
   "metadata": {},
   "outputs": [
    {
     "ename": "NameError",
     "evalue": "name 'd' is not defined",
     "output_type": "error",
     "traceback": [
      "\u001b[0;31m---------------------------------------------------------------------------\u001b[0m",
      "\u001b[0;31mNameError\u001b[0m                                 Traceback (most recent call last)",
      "\u001b[0;32m<timed exec>\u001b[0m in \u001b[0;36m<module>\u001b[0;34m()\u001b[0m\n",
      "\u001b[0;31mNameError\u001b[0m: name 'd' is not defined"
     ]
    }
   ],
   "source": [
    "%time ds = d[c][:, s]"
   ]
  },
  {
   "cell_type": "code",
   "execution_count": 28,
   "metadata": {},
   "outputs": [
    {
     "name": "stdout",
     "output_type": "stream",
     "text": [
      "         80095589 function calls (60091843 primitive calls) in 19.467 seconds\n",
      "\n",
      "   Ordered by: internal time\n",
      "\n",
      "   ncalls  tottime  percall  cumtime  percall filename:lineno(function)\n",
      "10001773/6    4.872    0.000    6.456    1.076 slicing.py:623(check_index)\n",
      "        2    3.517    1.758    4.357    2.179 slicing.py:398(partition_by_size)\n",
      "10001775/2    3.354    0.000    6.484    3.242 slicing.py:540(posify_index)\n",
      " 40007358    2.965    0.000    2.965    0.000 {built-in method builtins.isinstance}\n",
      "        2    1.749    0.875    6.484    3.242 slicing.py:563(<listcomp>)\n",
      "        1    0.878    0.878    0.878    0.878 slicing.py:44(<listcomp>)\n",
      " 10019804    0.451    0.000    0.451    0.000 {built-in method builtins.len}\n",
      " 10027774    0.392    0.000    0.392    0.000 {method 'append' of 'list' objects}\n",
      "        2    0.363    0.181    0.363    0.181 slicing.py:420(issorted)\n",
      "        2    0.270    0.135    4.786    2.393 slicing.py:441(take_sorted)\n",
      "        1    0.207    0.207    0.207    0.207 {method 'tolist' of 'numpy.ndarray' objects}\n",
      "        2    0.158    0.079    0.158    0.079 {built-in method builtins.sorted}\n",
      "        1    0.094    0.094   19.467   19.467 <string>:1(<module>)\n",
      "        2    0.079    0.040   19.373    9.686 core.py:1024(__getitem__)\n",
      "        2    0.035    0.017   18.147    9.074 slicing.py:142(slice_with_newaxes)\n",
      "        3    0.033    0.011    0.033    0.011 {built-in method _hashlib.openssl_md5}\n",
      "    106/3    0.028    0.000    1.112    0.371 slicing.py:15(sanitize_index)\n",
      "     8002    0.015    0.000    0.020    0.000 slicing.py:567(insert_many)\n",
      "     4002    0.004    0.000    0.023    0.000 slicing.py:156(<genexpr>)\n",
      "    24006    0.003    0.000    0.003    0.000 {method 'pop' of 'list' objects}\n",
      "        8    0.001    0.000    0.001    0.000 {method 'update' of 'dict' objects}\n",
      "        2    0.001    0.000    0.001    0.000 slicing.py:479(<listcomp>)\n",
      "        2    0.000    0.000   19.259    9.630 slicing.py:60(slice_array)\n",
      "        2    0.000    0.000    0.000    0.000 slicing.py:162(<genexpr>)\n",
      "        2    0.000    0.000    0.000    0.000 slicing.py:464(<listcomp>)\n",
      "        2    0.000    0.000    0.000    0.000 slicing.py:465(<listcomp>)\n",
      "    106/4    0.000    0.000    0.034    0.008 utils.py:502(__call__)\n",
      "        2    0.000    0.000   18.089    9.044 slicing.py:170(slice_wrap_lists)\n",
      "      100    0.000    0.000    0.000    0.000 arrayprint.py:340(array2string)\n",
      "      100    0.000    0.000    0.000    0.000 {built-in method builtins.repr}\n",
      "      108    0.000    0.000    0.000    0.000 abc.py:178(__instancecheck__)\n",
      "        2    0.000    0.000    5.149    2.574 slicing.py:487(take)\n",
      "        2    0.000    0.000    0.034    0.017 base.py:343(tokenize)\n",
      "        1    0.000    0.000    0.033    0.033 base.py:314(normalize_array)\n",
      "      116    0.000    0.000    0.000    0.000 _weakrefset.py:70(__contains__)\n",
      "      2/1    0.000    0.000    0.000    0.000 base.py:270(normalize_seq)\n",
      "        6    0.000    0.000    0.000    0.000 {built-in method builtins.sum}\n",
      "      100    0.000    0.000    0.000    0.000 numeric.py:1835(array_str)\n",
      "        1    0.000    0.000    0.000    0.000 slicing.py:47(<listcomp>)\n",
      "        1    0.000    0.000   19.467   19.467 {built-in method builtins.exec}\n",
      "      100    0.000    0.000    0.000    0.000 inspect.py:441(getmro)\n",
      "        8    0.000    0.000    0.000    0.000 {built-in method builtins.all}\n",
      "        4    0.000    0.000    0.001    0.000 dicttoolz.py:19(merge)\n",
      "        2    0.000    0.000    0.000    0.000 core.py:1455(normalize_chunks)\n",
      "      100    0.000    0.000    0.000    0.000 {method 'item' of 'numpy.ndarray' objects}\n",
      "        2    0.000    0.000    0.000    0.000 slicing.py:475(<listcomp>)\n",
      "        2    0.000    0.000    0.000    0.000 core.py:794(__init__)\n",
      "        2    0.000    0.000    0.000    0.000 slicing.py:467(<listcomp>)\n",
      "        3    0.000    0.000    0.000    0.000 {method 'hexdigest' of '_hashlib.HASH' objects}\n",
      "        2    0.000    0.000    0.001    0.000 exceptions.py:15(merge)\n",
      "        7    0.000    0.000    0.000    0.000 {built-in method builtins.hasattr}\n",
      "        2    0.000    0.000    0.000    0.000 slicing.py:606(replace_ellipsis)\n",
      "        4    0.000    0.000    0.001    0.000 functoolz.py:217(__call__)\n",
      "        8    0.000    0.000    0.000    0.000 slicing.py:183(<genexpr>)\n",
      "        4    0.000    0.000    0.000    0.000 dicttoolz.py:11(_get_factory)\n",
      "        5    0.000    0.000    0.000    0.000 core.py:1043(<genexpr>)\n",
      "        2    0.000    0.000    0.000    0.000 {method 'encode' of 'str' objects}\n",
      "        1    0.000    0.000    0.000    0.000 {method 'view' of 'numpy.ndarray' objects}\n",
      "        8    0.000    0.000    0.000    0.000 slicing.py:197(<genexpr>)\n",
      "        5    0.000    0.000    0.000    0.000 slicing.py:125(<genexpr>)\n",
      "        2    0.000    0.000    0.000    0.000 slicing.py:192(<listcomp>)\n",
      "        8    0.000    0.000    0.000    0.000 slicing.py:207(<genexpr>)\n",
      "        2    0.000    0.000    0.000    0.000 slicing.py:613(<listcomp>)\n",
      "        2    0.000    0.000    0.000    0.000 {method 'count' of 'tuple' objects}\n",
      "        1    0.000    0.000    0.000    0.000 {method 'ravel' of 'numpy.ndarray' objects}\n",
      "        1    0.000    0.000    0.000    0.000 functoolz.py:11(identity)\n",
      "        4    0.000    0.000    0.000    0.000 {method 'pop' of 'dict' objects}\n",
      "        2    0.000    0.000    0.000    0.000 slicing.py:150(<listcomp>)\n",
      "        2    0.000    0.000    0.000    0.000 core.py:826(_get_chunks)\n",
      "        2    0.000    0.000    0.000    0.000 core.py:1452(<lambda>)\n",
      "        2    0.000    0.000    0.000    0.000 slicing.py:149(<listcomp>)\n",
      "        1    0.000    0.000    0.000    0.000 {method 'disable' of '_lsprof.Profiler' objects}\n",
      "        4    0.000    0.000    0.000    0.000 {method 'items' of 'dict' objects}\n",
      "\n",
      "\n"
     ]
    }
   ],
   "source": [
    "cProfile.run('d[c][:, s]', sort='time')"
   ]
  },
  {
   "cell_type": "code",
   "execution_count": 29,
   "metadata": {},
   "outputs": [
    {
     "name": "stdout",
     "output_type": "stream",
     "text": [
      "CPU times: user 452 ms, sys: 8 ms, total: 460 ms\n",
      "Wall time: 148 ms\n"
     ]
    },
    {
     "data": {
      "text/plain": [
       "array([[[ 2, -1],\n",
       "        [ 2,  3],\n",
       "        [ 3,  0],\n",
       "        ..., \n",
       "        [ 1,  3],\n",
       "        [-1, -1],\n",
       "        [ 1,  1]],\n",
       "\n",
       "       [[ 1, -1],\n",
       "        [ 2,  2],\n",
       "        [-1,  2],\n",
       "        ..., \n",
       "        [ 2, -1],\n",
       "        [ 1,  3],\n",
       "        [-1, -1]],\n",
       "\n",
       "       [[ 1, -1],\n",
       "        [ 2,  0],\n",
       "        [ 0,  3],\n",
       "        ..., \n",
       "        [ 2,  2],\n",
       "        [ 3,  2],\n",
       "        [ 0,  2]],\n",
       "\n",
       "       ..., \n",
       "       [[ 1,  2],\n",
       "        [ 3, -1],\n",
       "        [ 2,  1],\n",
       "        ..., \n",
       "        [ 1,  2],\n",
       "        [ 1,  0],\n",
       "        [ 2,  0]],\n",
       "\n",
       "       [[ 1,  2],\n",
       "        [ 1,  0],\n",
       "        [ 2,  3],\n",
       "        ..., \n",
       "        [-1,  2],\n",
       "        [ 3,  3],\n",
       "        [ 1, -1]],\n",
       "\n",
       "       [[-1,  3],\n",
       "        [ 2,  2],\n",
       "        [ 1,  1],\n",
       "        ..., \n",
       "        [ 3,  3],\n",
       "        [ 0,  0],\n",
       "        [ 0,  2]]], dtype=int8)"
      ]
     },
     "execution_count": 29,
     "metadata": {},
     "output_type": "execute_result"
    }
   ],
   "source": [
    "%time ds[1000000:1100000].compute(optimize_graph=False)"
   ]
  },
  {
   "cell_type": "code",
   "execution_count": 30,
   "metadata": {},
   "outputs": [
    {
     "name": "stdout",
     "output_type": "stream",
     "text": [
      "         80055494 function calls (60052157 primitive calls) in 19.425 seconds\n",
      "\n",
      "   Ordered by: internal time\n",
      "\n",
      "   ncalls  tottime  percall  cumtime  percall filename:lineno(function)\n",
      "10001670/3    5.032    0.000    6.671    2.224 slicing.py:623(check_index)\n",
      "        1    3.459    3.459    4.272    4.272 slicing.py:398(partition_by_size)\n",
      "10001671/1    3.287    0.000    6.378    6.378 slicing.py:540(posify_index)\n",
      " 40006704    2.999    0.000    2.999    0.000 {built-in method builtins.isinstance}\n",
      "        1    1.731    1.731    6.378    6.378 slicing.py:563(<listcomp>)\n",
      "        1    0.849    0.849    0.849    0.849 slicing.py:44(<listcomp>)\n",
      " 10011685    0.433    0.000    0.433    0.000 {built-in method builtins.len}\n",
      " 10015670    0.381    0.000    0.381    0.000 {method 'append' of 'list' objects}\n",
      "        1    0.355    0.355    0.355    0.355 slicing.py:420(issorted)\n",
      "        1    0.196    0.196    0.196    0.196 {method 'tolist' of 'numpy.ndarray' objects}\n",
      "        1    0.193    0.193    0.193    0.193 slicing.py:479(<listcomp>)\n",
      "        1    0.157    0.157    0.157    0.157 {built-in method builtins.sorted}\n",
      "        1    0.085    0.085    4.707    4.707 slicing.py:441(take_sorted)\n",
      "        1    0.085    0.085   19.425   19.425 <string>:1(<module>)\n",
      "        1    0.079    0.079   19.341   19.341 core.py:1024(__getitem__)\n",
      "        1    0.034    0.034   18.157   18.157 slicing.py:142(slice_with_newaxes)\n",
      "        2    0.033    0.017    0.033    0.017 {built-in method _hashlib.openssl_md5}\n",
      "        1    0.026    0.026    1.071    1.071 slicing.py:15(sanitize_index)\n",
      "     4001    0.007    0.000    0.009    0.000 slicing.py:567(insert_many)\n",
      "     2001    0.002    0.000    0.011    0.000 slicing.py:156(<genexpr>)\n",
      "    12003    0.001    0.000    0.001    0.000 {method 'pop' of 'list' objects}\n",
      "        4    0.000    0.000    0.000    0.000 {method 'update' of 'dict' objects}\n",
      "        1    0.000    0.000   19.228   19.228 slicing.py:60(slice_array)\n",
      "        1    0.000    0.000    0.000    0.000 slicing.py:464(<listcomp>)\n",
      "        1    0.000    0.000    0.000    0.000 slicing.py:162(<genexpr>)\n",
      "        1    0.000    0.000    0.033    0.033 base.py:314(normalize_array)\n",
      "        1    0.000    0.000   18.111   18.111 slicing.py:170(slice_wrap_lists)\n",
      "        1    0.000    0.000    0.000    0.000 slicing.py:465(<listcomp>)\n",
      "        1    0.000    0.000    5.062    5.062 slicing.py:487(take)\n",
      "        1    0.000    0.000    0.033    0.033 base.py:343(tokenize)\n",
      "        1    0.000    0.000   19.425   19.425 {built-in method builtins.exec}\n",
      "        2    0.000    0.000    0.000    0.000 functoolz.py:217(__call__)\n",
      "        3    0.000    0.000    0.000    0.000 {built-in method builtins.sum}\n",
      "        2    0.000    0.000    0.000    0.000 abc.py:178(__instancecheck__)\n",
      "        1    0.000    0.000    0.000    0.000 core.py:1455(normalize_chunks)\n",
      "        2    0.000    0.000    0.000    0.000 dicttoolz.py:19(merge)\n",
      "        4    0.000    0.000    0.000    0.000 _weakrefset.py:70(__contains__)\n",
      "        2    0.000    0.000    0.000    0.000 dicttoolz.py:11(_get_factory)\n",
      "        1    0.000    0.000    0.000    0.000 exceptions.py:15(merge)\n",
      "        1    0.000    0.000    0.000    0.000 core.py:794(__init__)\n",
      "        4    0.000    0.000    0.000    0.000 {built-in method builtins.all}\n",
      "        1    0.000    0.000    0.000    0.000 slicing.py:467(<listcomp>)\n",
      "        1    0.000    0.000    0.000    0.000 {method 'view' of 'numpy.ndarray' objects}\n",
      "        4    0.000    0.000    0.000    0.000 slicing.py:183(<genexpr>)\n",
      "        2    0.000    0.000    0.000    0.000 {method 'hexdigest' of '_hashlib.HASH' objects}\n",
      "        1    0.000    0.000    0.000    0.000 slicing.py:606(replace_ellipsis)\n",
      "        1    0.000    0.000    0.000    0.000 slicing.py:192(<listcomp>)\n",
      "        4    0.000    0.000    0.000    0.000 slicing.py:207(<genexpr>)\n",
      "        1    0.000    0.000    0.000    0.000 slicing.py:475(<listcomp>)\n",
      "        2    0.000    0.000    0.033    0.017 utils.py:502(__call__)\n",
      "        2    0.000    0.000    0.000    0.000 slicing.py:125(<genexpr>)\n",
      "        2    0.000    0.000    0.000    0.000 core.py:1043(<genexpr>)\n",
      "        4    0.000    0.000    0.000    0.000 slicing.py:197(<genexpr>)\n",
      "        1    0.000    0.000    0.000    0.000 core.py:826(_get_chunks)\n",
      "        2    0.000    0.000    0.000    0.000 {built-in method builtins.hasattr}\n",
      "        1    0.000    0.000    0.000    0.000 {method 'ravel' of 'numpy.ndarray' objects}\n",
      "        1    0.000    0.000    0.000    0.000 {method 'disable' of '_lsprof.Profiler' objects}\n",
      "        1    0.000    0.000    0.000    0.000 {method 'encode' of 'str' objects}\n",
      "        1    0.000    0.000    0.000    0.000 slicing.py:613(<listcomp>)\n",
      "        1    0.000    0.000    0.000    0.000 core.py:1452(<lambda>)\n",
      "        1    0.000    0.000    0.000    0.000 slicing.py:149(<listcomp>)\n",
      "        2    0.000    0.000    0.000    0.000 {method 'pop' of 'dict' objects}\n",
      "        2    0.000    0.000    0.000    0.000 {method 'items' of 'dict' objects}\n",
      "        1    0.000    0.000    0.000    0.000 slicing.py:150(<listcomp>)\n",
      "        1    0.000    0.000    0.000    0.000 {method 'count' of 'tuple' objects}\n",
      "\n",
      "\n"
     ]
    }
   ],
   "source": [
    "# problem is in fact just the dim0 selection\n",
    "cProfile.run('d[c]', sort='time')"
   ]
  }
 ],
 "metadata": {
  "kernelspec": {
   "display_name": "Python 3",
   "language": "python",
   "name": "python3"
  },
  "language_info": {
   "codemirror_mode": {
    "name": "ipython",
    "version": 3
   },
   "file_extension": ".py",
   "mimetype": "text/x-python",
   "name": "python",
   "nbconvert_exporter": "python",
   "pygments_lexer": "ipython3",
   "version": "3.6.1"
  }
 },
 "nbformat": 4,
 "nbformat_minor": 1
}
